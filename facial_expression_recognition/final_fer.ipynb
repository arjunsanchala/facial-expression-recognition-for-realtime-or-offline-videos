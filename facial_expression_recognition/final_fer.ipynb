{
 "cells": [
  {
   "cell_type": "code",
   "execution_count": 10,
   "metadata": {},
   "outputs": [
    {
     "name": "stdout",
     "output_type": "stream",
     "text": [
      "Tensorflow version: 2.6.0\n"
     ]
    }
   ],
   "source": [
    "import tensorflow as tf\n",
    "print(\"Tensorflow version:\", tf.__version__)"
   ]
  },
  {
   "cell_type": "code",
   "execution_count": 7,
   "metadata": {},
   "outputs": [
    {
     "name": "stdout",
     "output_type": "stream",
     "text": [
      "Found existing installation: tensorflow 2.5.0\n",
      "\u001b[31mERROR: Exception:\n",
      "Traceback (most recent call last):\n",
      "  File \"/opt/miniconda/lib/python3.7/site-packages/pip/_internal/cli/base_command.py\", line 180, in _main\n",
      "    status = self.run(options, args)\n",
      "  File \"/opt/miniconda/lib/python3.7/site-packages/pip/_internal/commands/uninstall.py\", line 86, in run\n",
      "    auto_confirm=options.yes, verbose=self.verbosity > 0,\n",
      "  File \"/opt/miniconda/lib/python3.7/site-packages/pip/_internal/req/req_install.py\", line 652, in uninstall\n",
      "    uninstalled_pathset = UninstallPathSet.from_dist(dist)\n",
      "  File \"/opt/miniconda/lib/python3.7/site-packages/pip/_internal/req/req_uninstall.py\", line 527, in from_dist\n",
      "    for path in uninstallation_paths(dist):\n",
      "  File \"/opt/miniconda/lib/python3.7/site-packages/pip/_internal/req/req_uninstall.py\", line 60, in unique\n",
      "    for item in fn(*args, **kw):\n",
      "  File \"/opt/miniconda/lib/python3.7/site-packages/pip/_internal/req/req_uninstall.py\", line 78, in uninstallation_paths\n",
      "    r = csv.reader(dist.get_metadata_lines('RECORD'))\n",
      "  File \"/opt/miniconda/lib/python3.7/site-packages/pip/_vendor/pkg_resources/__init__.py\", line 1432, in get_metadata_lines\n",
      "    return yield_lines(self.get_metadata(name))\n",
      "  File \"/opt/miniconda/lib/python3.7/site-packages/pip/_vendor/pkg_resources/__init__.py\", line 1420, in get_metadata\n",
      "    value = self._get(path)\n",
      "  File \"/opt/miniconda/lib/python3.7/site-packages/pip/_vendor/pkg_resources/__init__.py\", line 1616, in _get\n",
      "    with open(path, 'rb') as stream:\n",
      "FileNotFoundError: [Errno 2] No such file or directory: '/opt/miniconda/lib/python3.7/site-packages/tensorflow-2.5.0.dist-info/RECORD'\u001b[0m\n",
      "Found existing installation: tensorflow-estimator 2.6.0\n",
      "Uninstalling tensorflow-estimator-2.6.0:\n",
      "  Successfully uninstalled tensorflow-estimator-2.6.0\n",
      "\u001b[33mWARNING: Running pip as root will break packages and permissions. You should install packages reliably by using venv: https://pip.pypa.io/warnings/venv\u001b[0m\n",
      "Found existing installation: gast 0.4.0\n",
      "Uninstalling gast-0.4.0:\n",
      "  Successfully uninstalled gast-0.4.0\n",
      "\u001b[33mWARNING: Running pip as root will break packages and permissions. You should install packages reliably by using venv: https://pip.pypa.io/warnings/venv\u001b[0m\n",
      "Found existing installation: tensorboard 2.6.0\n",
      "Uninstalling tensorboard-2.6.0:\n",
      "  Successfully uninstalled tensorboard-2.6.0\n",
      "\u001b[33mWARNING: Running pip as root will break packages and permissions. You should install packages reliably by using venv: https://pip.pypa.io/warnings/venv\u001b[0m\n",
      "Found existing installation: grpcio 1.40.0\n",
      "Uninstalling grpcio-1.40.0:\n",
      "  Successfully uninstalled grpcio-1.40.0\n",
      "\u001b[33mWARNING: Running pip as root will break packages and permissions. You should install packages reliably by using venv: https://pip.pypa.io/warnings/venv\u001b[0m\n",
      "Found existing installation: Jinja2 3.0.1\n",
      "Uninstalling Jinja2-3.0.1:\n",
      "  Successfully uninstalled Jinja2-3.0.1\n",
      "\u001b[33mWARNING: Running pip as root will break packages and permissions. You should install packages reliably by using venv: https://pip.pypa.io/warnings/venv\u001b[0m\n",
      "Found existing installation: h5py 2.10.0\n",
      "Uninstalling h5py-2.10.0:\n",
      "  Successfully uninstalled h5py-2.10.0\n",
      "\u001b[33mWARNING: Running pip as root will break packages and permissions. You should install packages reliably by using venv: https://pip.pypa.io/warnings/venv\u001b[0m\n"
     ]
    }
   ],
   "source": [
    "!pip uninstall tensorflow -y\n",
    "!pip uninstall tensorflow-estimator -y\n",
    "!pip uninstall gast -y\n",
    "!pip uninstall tensorboard -y\n",
    "!pip uninstall grpcio -y\n",
    "!pip uninstall jinja2 -y\n",
    "!pip uninstall h5py -y"
   ]
  },
  {
   "cell_type": "code",
   "execution_count": 11,
   "metadata": {},
   "outputs": [
    {
     "name": "stdout",
     "output_type": "stream",
     "text": [
      "Requirement already satisfied: tensorflow==2.5 in /opt/miniconda/lib/python3.7/site-packages (2.5.0)\n",
      "\u001b[31mERROR: Could not install packages due to an OSError: [Errno 2] No such file or directory: '/opt/miniconda/lib/python3.7/site-packages/tensorflow-2.5.0.dist-info/METADATA'\n",
      "\u001b[0m\n",
      "\u001b[33mWARNING: You are using pip version 21.1.1; however, version 21.2.4 is available.\n",
      "You should consider upgrading via the '/opt/miniconda/bin/python -m pip install --upgrade pip' command.\u001b[0m\n",
      "Collecting keras==2.4\n",
      "  Downloading Keras-2.4.0-py2.py3-none-any.whl (170 kB)\n",
      "\u001b[K     |████████████████████████████████| 170 kB 50.1 MB/s eta 0:00:01\n",
      "\u001b[?25hRequirement already satisfied: pyyaml in /opt/miniconda/lib/python3.7/site-packages (from keras==2.4) (5.4.1)\n",
      "Requirement already satisfied: numpy>=1.9.1 in /opt/miniconda/lib/python3.7/site-packages (from keras==2.4) (1.19.5)\n",
      "Requirement already satisfied: scipy>=0.14 in /opt/miniconda/lib/python3.7/site-packages (from keras==2.4) (1.4.1)\n",
      "Requirement already satisfied: tensorflow>=2.2.0 in /opt/miniconda/lib/python3.7/site-packages (from keras==2.4) (2.5.0)\n",
      "Requirement already satisfied: h5py in /opt/miniconda/lib/python3.7/site-packages (from keras==2.4) (2.10.0)\n",
      "\u001b[31mERROR: Could not install packages due to an OSError: [Errno 2] No such file or directory: '/opt/miniconda/lib/python3.7/site-packages/tensorflow-2.5.0.dist-info/METADATA'\n",
      "\u001b[0m\n",
      "\u001b[33mWARNING: You are using pip version 21.1.1; however, version 21.2.4 is available.\n",
      "You should consider upgrading via the '/opt/miniconda/bin/python -m pip install --upgrade pip' command.\u001b[0m\n"
     ]
    }
   ],
   "source": [
    "!pip install tensorflow==2.5\n",
    "!pip install keras==2.4"
   ]
  },
  {
   "cell_type": "code",
   "execution_count": 8,
   "metadata": {},
   "outputs": [
    {
     "data": {
      "text/plain": [
       "0"
      ]
     },
     "execution_count": 8,
     "metadata": {},
     "output_type": "execute_result"
    }
   ],
   "source": [
    "import os\n",
    "os.system('pip install seaborn')\n",
    "os.system('pip install matplotlib')\n",
    "os.system('pip install livelossplot')\n",
    "os.system('pip install ipython')\n",
    "os.system('pip install tensorflow==2.5')\n",
    "os.system('pip install tensorflow==2.4')\n",
    "os.system('pip install numpy')\n",
    "os.system('sudo apt-get update')\n",
    "os.system('sudo apt-get install ffmpeg libsm6 libxext6  -y')\n",
    "os.system('pip install opencv-python')\n",
    "os.system('pip install h5py==2.10.0')"
   ]
  },
  {
   "cell_type": "code",
   "execution_count": 3,
   "metadata": {},
   "outputs": [
    {
     "name": "stdout",
     "output_type": "stream",
     "text": [
      "keras version: 2.6.0\n"
     ]
    }
   ],
   "source": [
    "import keras\n",
    "print(\"keras version:\", keras.__version__)"
   ]
  },
  {
   "cell_type": "code",
   "execution_count": 2,
   "metadata": {},
   "outputs": [
    {
     "name": "stdout",
     "output_type": "stream",
     "text": [
      "Tensorflow version: 2.6.0\n"
     ]
    }
   ],
   "source": [
    "import tensorflow as tf\n",
    "print(\"Tensorflow version:\", tf.__version__)\n",
    "from tensorflow.keras.preprocessing.image import ImageDataGenerator\n",
    "from keras.models import Sequential\n",
    "from tensorflow.keras.layers import BatchNormalization\n",
    "from keras.layers.convolutional import Conv2D, MaxPooling2D\n",
    "from keras.layers.core import Activation, Flatten, Dropout, Dense\n",
    "from keras.callbacks import ModelCheckpoint\n",
    "import cv2\n",
    "from tensorflow.keras.optimizers import RMSprop, SGD, Adam\n",
    "import numpy as np\n",
    "from keras.preprocessing.image import img_to_array\n",
    "from keras.models import load_model\n"
   ]
  },
  {
   "cell_type": "code",
   "execution_count": null,
   "metadata": {},
   "outputs": [],
   "source": [
    "# num_classes = 6\n",
    "# img_rows, img_cols = 48, 48\n",
    "# batch_size = 16\n",
    "\n",
    "# train_data_dir = 'Facial-Expression-Recognition-with-CNNs/train'\n",
    "# validation_data_dir = 'Facial-Expression-Recognition-with-CNNs/test'\n"
   ]
  },
  {
   "cell_type": "code",
   "execution_count": null,
   "metadata": {},
   "outputs": [],
   "source": []
  },
  {
   "cell_type": "code",
   "execution_count": 3,
   "metadata": {},
   "outputs": [],
   "source": [
    "face_classifier = cv2.CascadeClassifier(cv2.data.haarcascades +'haarcascade_frontalface_default.xml')\n",
    "\n",
    "classifier = load_model('Facial-Expression-Recognition-with-CNNs/emotion_little_vgg_3.h5')\n",
    "\n",
    "\n",
    "\n",
    "\n"
   ]
  },
  {
   "cell_type": "code",
   "execution_count": 6,
   "metadata": {},
   "outputs": [
    {
     "name": "stdout",
     "output_type": "stream",
     "text": [
      "Found 7178 images belonging to 7 classes.\n",
      "{0: 'angry', 1: 'disgust', 2: 'fear', 3: 'happy', 4: 'neutral', 5: 'sad', 6: 'surprise'}\n"
     ]
    }
   ],
   "source": [
    "num_classes = 6\n",
    "img_rows, img_cols = 48, 48\n",
    "batch_size = 16\n",
    "\n",
    "validation_data_dir = 'Facial-Expression-Recognition-with-CNNs/test'\n",
    "\n",
    "validation_datagen = ImageDataGenerator(rescale= 1./255)\n",
    "\n",
    "validation_generator = validation_datagen.flow_from_directory(\n",
    "        validation_data_dir,\n",
    "        color_mode = 'grayscale',\n",
    "        target_size=(img_rows, img_cols),\n",
    "        batch_size=batch_size,\n",
    "        class_mode='categorical',\n",
    "        shuffle=False)\n",
    "\n",
    "\n",
    "class_labels = validation_generator.class_indices\n",
    "class_labels = {v: k for k, v in class_labels.items()}\n",
    "classes = list(class_labels.values())\n",
    "print(class_labels)"
   ]
  },
  {
   "cell_type": "code",
   "execution_count": 4,
   "metadata": {},
   "outputs": [],
   "source": [
    "def face_detector(img):\n",
    "    # Convert image to grayscale\n",
    "    gray = cv2.cvtColor(img, cv2.COLOR_BGR2GRAY)\n",
    "    faces = face_classifier.detectMultiScale(gray, 1.3, 5)\n",
    "    if faces is ():\n",
    "        return (0, 0, 0, 0), np.zeros((48, 48), np.uint8), img\n",
    "\n",
    "    for (x, y, w, h) in faces:\n",
    "        cv2.rectangle(img, (x, y), (x + w, y + h), (255, 0, 0), 2)\n",
    "        roi_gray = gray[y:y + h, x:x + w]\n",
    "\n",
    "    try:\n",
    "        roi_gray = cv2.resize(roi_gray, (48, 48), interpolation=cv2.INTER_AREA)\n",
    "    except:\n",
    "        return (x, w, y, h), np.zeros((48, 48), np.uint8), img\n",
    "    return (x, w, y, h), roi_gray, img\n"
   ]
  },
  {
   "cell_type": "code",
   "execution_count": 13,
   "metadata": {},
   "outputs": [],
   "source": [
    "cap = cv2.VideoCapture('Facial-Expression-Recognition-with-CNNs/fer_1.mp4')\n",
    "emotions = []\n",
    "\n",
    "img_array = []\n",
    "\n",
    "frame_width = int(cap.get(3))\n",
    "\n",
    "frame_height = int(cap.get(4))\n",
    "# Define the codec and create VideoWriter object.The output is stored in 'outpy.avi' file.\n",
    "\n",
    "out = cv2.VideoWriter('output_1.avi',cv2.VideoWriter_fourcc('M','J','P','G'), 10, (frame_width,frame_height))\n",
    "# out = cv2.VideoWriter('project_10.avi',cv2.VideoWriter_fourcc('M','J','P','G'), 10, (48,48))\n",
    "\n",
    "while(cap.isOpened()):\n",
    "\n",
    "    ret, frame = cap.read()\n",
    "    if ret == True:\n",
    "\n",
    "        rect, face, image = face_detector(frame)\n",
    "        \n",
    "        if np.sum([face]) != 0.0:\n",
    "            roi = face.astype(\"float\") / 255.0\n",
    "            roi = img_to_array(roi)\n",
    "            roi = np.expand_dims(roi, axis=0)\n",
    "\n",
    "            # make a prediction on the ROI, then lookup the class\n",
    "            preds = classifier.predict(roi)[0]\n",
    "            label = class_labels[preds.argmax()]\n",
    "            emotions.append(label)\n",
    "            label_position = (rect[0] + int((rect[1] / 2)), rect[2] + 25)\n",
    "            out.write(cv2.putText(image, label, label_position, cv2.FONT_HERSHEY_SIMPLEX, 2, (0, 255, 0), 3))\n",
    "\n",
    "            \n",
    "\n",
    "        \n",
    "\n",
    "    else:\n",
    "        break\n",
    "\n",
    "    #cv2.imshow('All', image)\n",
    "\n",
    "    #if cv2.waitKey(1) == ord('q'):  # q is the Enter Key\n",
    "        #break\n",
    "\n",
    "# for i in range(len(img_array)):\n",
    "#     out.write(img_array[i])\n",
    "\n",
    "# cap.release()\n",
    "# cv2.destroyAllWindows()\n",
    "out.release()"
   ]
  },
  {
   "cell_type": "code",
   "execution_count": null,
   "metadata": {},
   "outputs": [],
   "source": []
  }
 ],
 "metadata": {
  "kernelspec": {
   "display_name": "Python 3",
   "language": "python",
   "name": "python3"
  },
  "kubeflow_notebook": {
   "autosnapshot": false,
   "docker_image": "",
   "experiment": {
    "id": "",
    "name": ""
   },
   "experiment_name": "",
   "katib_metadata": {
    "algorithm": {
     "algorithmName": "grid"
    },
    "maxFailedTrialCount": 3,
    "maxTrialCount": 12,
    "objective": {
     "objectiveMetricName": "",
     "type": "minimize"
    },
    "parallelTrialCount": 3,
    "parameters": []
   },
   "katib_run": false,
   "pipeline_description": "",
   "pipeline_name": "",
   "snapshot_volumes": false,
   "steps_defaults": [],
   "volume_access_mode": "rwm",
   "volumes": []
  },
  "language_info": {
   "codemirror_mode": {
    "name": "ipython",
    "version": 3
   },
   "file_extension": ".py",
   "mimetype": "text/x-python",
   "name": "python",
   "nbconvert_exporter": "python",
   "pygments_lexer": "ipython3",
   "version": "3.7.9"
  }
 },
 "nbformat": 4,
 "nbformat_minor": 4
}
